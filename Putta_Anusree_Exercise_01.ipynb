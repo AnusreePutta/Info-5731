{
  "cells": [
    {
      "cell_type": "markdown",
      "metadata": {
        "id": "view-in-github",
        "colab_type": "text"
      },
      "source": [
        "<a href=\"https://colab.research.google.com/github/AnusreePutta/Info-5731/blob/main/Putta_Anusree_Exercise_01.ipynb\" target=\"_parent\"><img src=\"https://colab.research.google.com/assets/colab-badge.svg\" alt=\"Open In Colab\"/></a>"
      ]
    },
    {
      "cell_type": "markdown",
      "metadata": {
        "id": "DymRJbxDBCnf"
      },
      "source": [
        "# **This first In-class-exercise cover a variety of fundamental concepts in Python and are designed to help individuals improve their coding skills and problem-solving abilities.**\n",
        "\n",
        "The submission is due on 01/31/2024 11:59 PM. This submission is worth 40 points in total.\n"
      ]
    },
    {
      "cell_type": "markdown",
      "metadata": {
        "id": "FBKvD6O_TY6e"
      },
      "source": [
        "(1) Write a Python program that  prompts the user to input the length and width of a rectangle, and then calculates and displays the area of the rectangle."
      ]
    },
    {
      "cell_type": "code",
      "execution_count": null,
      "metadata": {
        "colab": {
          "base_uri": "https://localhost:8080/"
        },
        "id": "cikVKDXdTbzE",
        "outputId": "eeec61dc-2f44-4f99-bcfd-57011b38985d"
      },
      "outputs": [
        {
          "output_type": "stream",
          "name": "stdout",
          "text": [
            "Enter length of the rectangle:7\n",
            "Enter width of the rectangle:9\n",
            "The area of the rectangle is: 63.0\n"
          ]
        }
      ],
      "source": [
        "\n",
        "length = float(input(\"Enter length of the rectangle:\"))\n",
        "width =float( input(\"Enter width of the rectangle:\"))\n",
        "area = length * width\n",
        "print(\"The area of the rectangle is:\", area)"
      ]
    },
    {
      "cell_type": "markdown",
      "metadata": {
        "id": "E9RqrlwdTfvl"
      },
      "source": [
        "(2) Create a Python program that interactively takes two numerical inputs from the user and swaps their values without utilizing an extra variable."
      ]
    },
    {
      "cell_type": "code",
      "execution_count": null,
      "metadata": {
        "id": "4XvRknixTh1g",
        "colab": {
          "base_uri": "https://localhost:8080/"
        },
        "outputId": "2fb014e5-1897-44c9-9fbf-4ce43eb832b5"
      },
      "outputs": [
        {
          "output_type": "stream",
          "name": "stdout",
          "text": [
            "Enter the first numerical value: 8\n",
            "Enter the second numerical value: 7\n",
            "After swapping:\n",
            "First numerical value: 7.0\n",
            "Second numerical value: 8.0\n"
          ]
        }
      ],
      "source": [
        "\n",
        "a = float(input(\"Enter the first numerical value: \"))\n",
        "b = float(input(\"Enter the second numerical value: \"))\n",
        "a = a + b\n",
        "b = a - b\n",
        "a = a - b\n",
        "print(\"After swapping:\")\n",
        "print(\"First numerical value:\", a)\n",
        "print(\"Second numerical value:\", b)"
      ]
    },
    {
      "cell_type": "markdown",
      "metadata": {
        "id": "03jb4GZsBkBS"
      },
      "source": [
        "(3) Write a Python script to determine and print the length of a user-input string."
      ]
    },
    {
      "cell_type": "code",
      "execution_count": null,
      "metadata": {
        "id": "YaGLbSHHB8Ej",
        "colab": {
          "base_uri": "https://localhost:8080/"
        },
        "outputId": "905f1172-5927-4295-e91b-25df1cd6d8e8"
      },
      "outputs": [
        {
          "output_type": "stream",
          "name": "stdout",
          "text": [
            "Enter a string: Anusree Reddy\n",
            "The length of the entered string is: 13\n"
          ]
        }
      ],
      "source": [
        "\n",
        "a = input(\"Enter a string: \")\n",
        "length = len(a)\n",
        "print(\"The length of the entered string is:\", length)"
      ]
    },
    {
      "cell_type": "markdown",
      "metadata": {
        "id": "jJDe71iLB616"
      },
      "source": [
        "(4) Construct a Python program that counts and displays the occurrences of each character in a given string.\n",
        "\n",
        "Sample String: 'openai.ai',\n",
        "\n",
        "Expected Result: {'a': 2, 'i': 2, '.': 1, 'o': 1, 'p': 1, 'e': 1, 'n': 1}"
      ]
    },
    {
      "cell_type": "code",
      "execution_count": null,
      "metadata": {
        "id": "MtKskTzbCLaU",
        "colab": {
          "base_uri": "https://localhost:8080/"
        },
        "outputId": "dad7d151-a444-4164-ce69-67cf527e2166"
      },
      "outputs": [
        {
          "output_type": "stream",
          "name": "stdout",
          "text": [
            "Character occurrences:\n",
            "{'o': 1, 'p': 1, 'e': 1, 'n': 1, 'a': 2, 'i': 2, '.': 1}\n"
          ]
        }
      ],
      "source": [
        "\n",
        "def count_character_occurrences(input_string):\n",
        "\n",
        "    char_occurrences = {}\n",
        "    for char in input_string:\n",
        "        char_occurrences[char] = char_occurrences.get(char, 0) + 1\n",
        "\n",
        "    return char_occurrences\n",
        "sample_string = 'openai.ai'\n",
        "result_occurrences = count_character_occurrences(sample_string)\n",
        "print(\"Character occurrences:\")\n",
        "print(result_occurrences)\n"
      ]
    },
    {
      "cell_type": "markdown",
      "metadata": {
        "id": "55W9AMdXCSpV"
      },
      "source": [
        "(5) Design a Python code to calculate the sum of all elements in a user-provided list."
      ]
    },
    {
      "cell_type": "code",
      "execution_count": null,
      "metadata": {
        "id": "I57NXsauCec2",
        "colab": {
          "base_uri": "https://localhost:8080/"
        },
        "outputId": "556818cb-a375-4436-ec6f-dc4332b8a8e5"
      },
      "outputs": [
        {
          "output_type": "stream",
          "name": "stdout",
          "text": [
            "Enter a list of numbers:7 6 8 9\n",
            "The sum of all elements in the list is: 30.0\n"
          ]
        }
      ],
      "source": [
        "\n",
        "user = input(\"Enter a list of numbers:\")\n",
        "numbers = [float(x) for x in user.split()]\n",
        "sum_of_no = sum(numbers)\n",
        "print(\"The sum of all elements in the list is:\", sum_of_no)"
      ]
    },
    {
      "cell_type": "markdown",
      "metadata": {
        "id": "4ulBZ6yhCi9F"
      },
      "source": [
        "(6) Write a Python program that modifies a given string by replacing all occurrences of its first character with '$', excluding the first character itself.\n",
        "\n",
        "\n",
        "Sample String : 'restart‘,\n",
        "\n",
        "Expected Result : 'resta\\$t'"
      ]
    },
    {
      "cell_type": "code",
      "execution_count": null,
      "metadata": {
        "id": "Fj0XhwbBCw2o",
        "colab": {
          "base_uri": "https://localhost:8080/"
        },
        "outputId": "f4f01432-4cb5-41bf-9fea-4cf8fcf222f0"
      },
      "outputs": [
        {
          "output_type": "stream",
          "name": "stdout",
          "text": [
            "Original String: restart\n",
            "Modified String: resta$t\n"
          ]
        }
      ],
      "source": [
        "\n",
        "def class_char(input_string):\n",
        "    if len(input_string) < 2:\n",
        "        return input_string\n",
        "\n",
        "    first_char = input_string[0]\n",
        "    modified_string = first_char + input_string[1:].replace(first_char, '$')\n",
        "\n",
        "    return modified_string\n",
        "sample = 'restart'\n",
        "result = class_char(sample)\n",
        "print(\"Original String:\", sample_string)\n",
        "print(\"Modified String:\", result)\n"
      ]
    },
    {
      "cell_type": "markdown",
      "metadata": {
        "id": "qVXA3q7ET5JI"
      },
      "source": [
        "(7) Write a Python program using a while loop to compute the factorial of a user-supplied number."
      ]
    },
    {
      "cell_type": "code",
      "execution_count": null,
      "metadata": {
        "id": "Lbt7R6UkT7BA",
        "colab": {
          "base_uri": "https://localhost:8080/"
        },
        "outputId": "89403acd-1bb1-4f31-d749-db4e9acb5f4a"
      },
      "outputs": [
        {
          "output_type": "stream",
          "name": "stdout",
          "text": [
            "enter a number: 7\n",
            "factorial of  7  is  5040\n"
          ]
        }
      ],
      "source": [
        "\n",
        "num = int(input(\"enter a number: \"))\n",
        "\n",
        "fact = 1\n",
        "i = 1\n",
        "\n",
        "while i <= num:\n",
        " fact = fact * i\n",
        " i = i + 1\n",
        "\n",
        "print(\"factorial of \", num, \" is \", fact)"
      ]
    },
    {
      "cell_type": "markdown",
      "metadata": {
        "id": "6YfbzXMNT--R"
      },
      "source": [
        "(8) Create a program that accepts a list of numbers as input and outputs a new list containing only the even numbers."
      ]
    },
    {
      "cell_type": "code",
      "execution_count": null,
      "metadata": {
        "id": "54q7wMQPUAKu",
        "colab": {
          "base_uri": "https://localhost:8080/"
        },
        "outputId": "16a48816-f0bf-4db5-8ae2-43da1cd74154"
      },
      "outputs": [
        {
          "output_type": "stream",
          "name": "stdout",
          "text": [
            "10 24 4 66 "
          ]
        }
      ],
      "source": [
        "\n",
        "list1 = [10, 24, 4, 45, 66, 93]\n",
        "num = 0\n",
        "\n",
        "while(num < len(list1)):\n",
        "    if list1[num] % 2 == 0:\n",
        "        print(list1[num], end=\" \")\n",
        "    num += 1"
      ]
    },
    {
      "cell_type": "markdown",
      "metadata": {
        "id": "_bIP7s1MCzue"
      },
      "source": [
        "\n",
        "(9) Design a Python function to check if a number is prime.\n"
      ]
    },
    {
      "cell_type": "code",
      "execution_count": null,
      "metadata": {
        "id": "w79QilHXD3Mg",
        "colab": {
          "base_uri": "https://localhost:8080/"
        },
        "outputId": "26630fd8-21f2-41d1-b810-0ba839827ac2"
      },
      "outputs": [
        {
          "output_type": "stream",
          "name": "stdout",
          "text": [
            "Enter a number: 6\n",
            "6 is not a prime number\n",
            "2 times 3 is 6\n"
          ]
        }
      ],
      "source": [
        "num = int(input(\"Enter a number: \"))\n",
        "if num == 1:\n",
        "    print(num, \"is not a prime number\")\n",
        "elif num > 1:\n",
        "   for i in range(2,num):\n",
        "       if (num % i) == 0:\n",
        "           print(num,\"is not a prime number\")\n",
        "           print(i,\"times\",num//i,\"is\",num)\n",
        "           break\n",
        "   else:\n",
        "       print(num,\"is a prime number\")\n",
        "\n",
        "else:\n",
        "   print(num,\"is not a prime number\")\n"
      ]
    },
    {
      "cell_type": "markdown",
      "metadata": {
        "id": "xCa2bK9aD4Q3"
      },
      "source": [
        "(10) Write a Python program to concatenate following dictionaries to create a new one.\n",
        "\n",
        "Sample Dictionary : dic1={1:10, 2:20}, dic2={3:30, 4:40}, dic3={5:50,6:60},\n",
        "\n",
        "Expected Result : {1: 10, 2: 20, 3: 30, 4: 40, 5: 50, 6: 60}\n"
      ]
    },
    {
      "cell_type": "code",
      "execution_count": null,
      "metadata": {
        "id": "_z4aLqAbEET1",
        "colab": {
          "base_uri": "https://localhost:8080/"
        },
        "outputId": "ad4e4991-2d22-4a5f-ea03-f9ede8db51cb"
      },
      "outputs": [
        {
          "output_type": "stream",
          "name": "stdout",
          "text": [
            "{1: 10, 2: 20, 3: 30, 4: 40, 5: 50, 6: 60}\n"
          ]
        }
      ],
      "source": [
        "\n",
        "dic1 = {1: 10, 2: 20}\n",
        "dic2 = {3: 30, 4: 40}\n",
        "dic3 = {5: 50, 6: 60}\n",
        "\n",
        "dic4 = {}\n",
        "\n",
        "for d in (dic1, dic2, dic3):\n",
        "    dic4.update(d)\n",
        "print(dic4)"
      ]
    },
    {
      "cell_type": "markdown",
      "metadata": {
        "id": "bkyZ2xSZUOst"
      },
      "source": [
        "(11) Design a Python function that takes a tuple of integers as input and returns the largest and smallest elements."
      ]
    },
    {
      "cell_type": "code",
      "execution_count": null,
      "metadata": {
        "id": "3FdLRBKOUQEd",
        "colab": {
          "base_uri": "https://localhost:8080/"
        },
        "outputId": "66a53a4e-67f4-429c-9a2d-badd2d8accab"
      },
      "outputs": [
        {
          "output_type": "stream",
          "name": "stdout",
          "text": [
            "Maximum value is: 25\n"
          ]
        }
      ],
      "source": [
        "\n",
        "t = (25, 17, 55, 63, 40)\n",
        "\n",
        "max_value = t[0]\n",
        "\n",
        "for i in range(len(t)):\n",
        "    if t[i] > max_value:\n",
        "        max_val = t[i]\n",
        "\n",
        "print(\"Maximum value is:\", max_value)"
      ]
    },
    {
      "cell_type": "markdown",
      "metadata": {
        "id": "O0TVi3gKUTpp"
      },
      "source": [
        "(12) Write a Python program that counts the frequency of each character in a given string and stores it in a dictionary."
      ]
    },
    {
      "cell_type": "code",
      "execution_count": null,
      "metadata": {
        "id": "lAtfSfZXUU-h",
        "colab": {
          "base_uri": "https://localhost:8080/"
        },
        "outputId": "e89c9124-fa76-4a20-b6b9-c729d1a6c7ab"
      },
      "outputs": [
        {
          "output_type": "stream",
          "name": "stdout",
          "text": [
            "Enter a string: Anu\n",
            "Character frequencies:\n",
            "'A': 1\n",
            "'n': 1\n",
            "'u': 1\n"
          ]
        }
      ],
      "source": [
        "\n",
        "def count_characters_frequency(input_string):\n",
        "    char_frequency = {}\n",
        "    for char in input_string:\n",
        "        char_frequency[char] = char_frequency.get(char, 0) + 1\n",
        "\n",
        "    return char_frequency\n",
        "input_string = input(\"Enter a string: \")\n",
        "result_frequency = count_characters_frequency(input_string)\n",
        "print(\"Character frequencies:\")\n",
        "for char, frequency in result_frequency.items():\n",
        "    print(f\"'{char}': {frequency}\")\n"
      ]
    },
    {
      "cell_type": "markdown",
      "metadata": {
        "id": "0v48Vqa7FrQh"
      },
      "source": [
        "(13) Implement a Python script to identify duplicate elements in a provided array of integers. Return -1 if there are no duplicates."
      ]
    },
    {
      "cell_type": "code",
      "execution_count": null,
      "metadata": {
        "id": "7WEmgq-DF2P1",
        "colab": {
          "base_uri": "https://localhost:8080/"
        },
        "outputId": "f6bad4d8-ce3b-4e5a-c3c6-480ce47d8148"
      },
      "outputs": [
        {
          "output_type": "stream",
          "name": "stdout",
          "text": [
            "[2, 3, 6, 7]\n"
          ]
        }
      ],
      "source": [
        "def Repeat(x):\n",
        "\t_size = len(x)\n",
        "\trepeated = []\n",
        "\tfor i in range(_size):\n",
        "\t\tk = i + 1\n",
        "\t\tfor j in range(k, _size):\n",
        "\t\t\tif x[i] == x[j] and x[i] not in repeated:\n",
        "\t\t\t\trepeated.append(x[i])\n",
        "\treturn repeated\n",
        "\n",
        "list1 = [1,2,2,3,3,4,6,6,7,7,8]\n",
        "print (Repeat(list1))"
      ]
    },
    {
      "cell_type": "markdown",
      "metadata": {
        "id": "vD5PYLMuGga_"
      },
      "source": [
        "(14) Write a Python script to find the common elements between two lists."
      ]
    },
    {
      "cell_type": "code",
      "execution_count": null,
      "metadata": {
        "id": "t0D5kdJUGjjw",
        "colab": {
          "base_uri": "https://localhost:8080/"
        },
        "outputId": "478d3154-bbbc-4d95-c680-3b4dc361663b"
      },
      "outputs": [
        {
          "output_type": "stream",
          "name": "stdout",
          "text": [
            "The common elements are: {2, 3, 5}\n"
          ]
        }
      ],
      "source": [
        "a = [1, 2, 3, 4, 5]\n",
        "b = [5, 2, 6, 3, 9]\n",
        "\n",
        "result = (set(a) & set(b))\n",
        "\n",
        "if result:\n",
        "   print(\"The common elements are:\", result)\n",
        "else:\n",
        "   print(\"No common elements present in two arrays\")"
      ]
    },
    {
      "cell_type": "markdown",
      "metadata": {
        "id": "uHkd-y5VhVWC"
      },
      "source": [
        "(15) Write a Python program to randomly divide the students in this class into six groups for term projects, each group should have at least 4 students but no more than 6 students (including 6).\n",
        "\n",
        "Here is the students list:\n",
        "\n",
        "student_list_spring_2024=[rb0846,\n",
        "ac1964,\n",
        "hc0612,\n",
        "md0912,\n",
        "ad1198,\n",
        "md0894,\n",
        "md0825,\n",
        "vg0598,\n",
        "vg0433,\n",
        "mh1068,\n",
        "yj0173,\n",
        "pk0553,\n",
        "tk0411,\n",
        "srk0204,\n",
        "sk2922,\n",
        "sk2936,\n",
        "mk1302,\n",
        "mk1317,\n",
        "tk0412,\n",
        "vk0656,\n",
        "sm2985,\n",
        "mm2372,\n",
        "un0045,\n",
        "an0892,\n",
        "sn0913,\n",
        "gp0252,\n",
        "ap1484,\n",
        "mr1765,\n",
        "sr1385,\n",
        "sr1335,\n",
        "hs0665,\n",
        "ms2060,\n",
        "gt0217,\n",
        "nt0385,\n",
        "tv0186,\n",
        "sv1394,\n",
        "sv1752,\n",
        "sv1555,\n",
        "sy0594\n",
        "]\n"
      ]
    },
    {
      "cell_type": "code",
      "execution_count": null,
      "metadata": {
        "id": "3iGbmcOBhTwy",
        "colab": {
          "base_uri": "https://localhost:8080/"
        },
        "outputId": "5be5ed48-678c-4b45-a3c7-8e07e6aeed77"
      },
      "outputs": [
        {
          "output_type": "stream",
          "name": "stdout",
          "text": [
            "Group 1: ['yj0173', 'ad1198', 'mh1068', 'md0912', 'sv1752']\n",
            "Group 2: ['gt0217', 'sr1335', 'un0045', 'tk0411', 'mm2372']\n",
            "Group 3: ['sk2922', 'hs0665', 'ap1484', 'rb0846', 'sy0594']\n",
            "Group 4: ['hc0612', 'nt0385', 'tv0186', 'mr1765']\n",
            "Group 5: ['mk1302', 'vk0656', 'sk2936', 'pk0553']\n",
            "Group 6: ['mk1317', 'sm2985', 'sn0913', 'gp0252']\n",
            "Group 7: ['an0892', 'md0825', 'ms2060', 'vg0598']\n",
            "Group 8: ['vg0433', 'ac1964', 'md0894', 'tk0412']\n",
            "Group 9: ['sv1555', 'srk0204', 'sr1385', 'sv1394']\n"
          ]
        }
      ],
      "source": [
        "\n",
        "\n",
        "import random\n",
        "\n",
        "def divide_students_into_groups(student_list, min_group_size, max_group_size):\n",
        "    random.shuffle(student_list)\n",
        "\n",
        "    groups = []\n",
        "    current_group = []\n",
        "\n",
        "    for student in student_list:\n",
        "        current_group.append(student)\n",
        "\n",
        "        if min_group_size <= len(current_group) <= max_group_size:\n",
        "            groups.append(current_group)\n",
        "            current_group = []\n",
        "\n",
        "    if current_group:\n",
        "        for i, student in enumerate(current_group):\n",
        "            groups[i % len(groups)].append(student)\n",
        "\n",
        "    return groups\n",
        "\n",
        "# Example usage:\n",
        "student_list_spring_2024 = [\n",
        "    'rb0846', 'ac1964', 'hc0612', 'md0912', 'ad1198', 'md0894', 'md0825', 'vg0598', 'vg0433', 'mh1068',\n",
        "    'yj0173', 'pk0553', 'tk0411', 'srk0204', 'sk2922', 'sk2936', 'mk1302', 'mk1317', 'tk0412', 'vk0656',\n",
        "    'sm2985', 'mm2372', 'un0045', 'an0892', 'sn0913', 'gp0252', 'ap1484', 'mr1765', 'sr1385', 'sr1335',\n",
        "    'hs0665', 'ms2060', 'gt0217', 'nt0385', 'tv0186', 'sv1394', 'sv1752', 'sv1555', 'sy0594'\n",
        "]\n",
        "\n",
        "min_group_size = 4\n",
        "max_group_size = 6\n",
        "\n",
        "result_groups = divide_students_into_groups(student_list_spring_2024, min_group_size, max_group_size)\n",
        "\n",
        "# Display the result\n",
        "for i, group in enumerate(result_groups):\n",
        "    print(f\"Group {i + 1}: {group}\")\n"
      ]
    },
    {
      "cell_type": "markdown",
      "metadata": {
        "id": "fmZ9vX20Qs3d"
      },
      "source": [
        "(16) Create a program that takes a positive integer 'n' as input and prints the count of even numbers from 1 to 'n'. Optimize the loop using the break statement."
      ]
    },
    {
      "cell_type": "code",
      "execution_count": null,
      "metadata": {
        "id": "W8Jw6sWMQs3d",
        "colab": {
          "base_uri": "https://localhost:8080/"
        },
        "outputId": "983daa5d-6d45-4ec6-c0ad-2b8997124163"
      },
      "outputs": [
        {
          "output_type": "stream",
          "name": "stdout",
          "text": [
            "Even numbers in the list:  3\n",
            "Odd numbers in the list:  4\n"
          ]
        }
      ],
      "source": [
        "\n",
        "list = [10, 21, 4, 45, 66, 93, 1]\n",
        "\n",
        "even_count, odd_count = 0, 0\n",
        "\n",
        "# iterating each number in list\n",
        "for num in list:\n",
        "\n",
        "\t# checking condition\n",
        "\tif num % 2 == 0:\n",
        "\t\teven_count += 1\n",
        "\n",
        "\telse:\n",
        "\t\todd_count += 1\n",
        "\n",
        "print(\"Even numbers in the list: \", even_count)\n",
        "print(\"Odd numbers in the list: \", odd_count)\n",
        "\n"
      ]
    },
    {
      "cell_type": "markdown",
      "metadata": {
        "id": "hvq4APMhQs3d"
      },
      "source": [
        "(17) Develop a Python function called 'count_vowels' that takes a string as input and returns the count of vowels (both lowercase and uppercase) present in the string, ignoring spaces and non-alphabetic characters."
      ]
    },
    {
      "cell_type": "code",
      "execution_count": null,
      "metadata": {
        "id": "ZnoxhSglQs3d",
        "colab": {
          "base_uri": "https://localhost:8080/"
        },
        "outputId": "6ab1b68b-313a-417b-b4e0-13c330f8df63"
      },
      "outputs": [
        {
          "output_type": "stream",
          "name": "stdout",
          "text": [
            "Number of vowels in the given string is:  7\n"
          ]
        }
      ],
      "source": [
        "\n",
        "example = \"anusree reddy putta\"\n",
        "count = 0\n",
        "i = 0\n",
        "\n",
        "for i in range(len(example)):\n",
        "    if (\n",
        "        (example[i] == \"a\")\n",
        "        or (example[i] == \"e\")\n",
        "        or (example[i] == \"i\")\n",
        "        or (example[i] == \"o\")\n",
        "        or (example[i] == \"u\")\n",
        "    ):\n",
        "        count += 1\n",
        "\n",
        "print(\"Number of vowels in the given string is: \", count)"
      ]
    },
    {
      "cell_type": "markdown",
      "metadata": {
        "id": "55FWoSJPVVM6"
      },
      "source": [
        "(18) Create a custom exception named ValueTooSmallError in Python. Write a program that takes user input for an age, and if the entered age is less than 18, raise the ValueTooSmallError with an appropriate error message."
      ]
    },
    {
      "cell_type": "code",
      "execution_count": null,
      "metadata": {
        "id": "hwtr1wZmVX5A",
        "colab": {
          "base_uri": "https://localhost:8080/"
        },
        "outputId": "58e991a1-7c04-4abf-a617-f81184ab5e7c"
      },
      "outputs": [
        {
          "output_type": "stream",
          "name": "stdout",
          "text": [
            "Enter your age: 24\n",
            "You are eligible.\n"
          ]
        }
      ],
      "source": [
        "\n",
        "class ValueTooSmallError(Exception):\n",
        "    def __init__(self, message=\"Value is too small. Age must be 18 or older.\"):\n",
        "        self.message = message\n",
        "        super().__init__(self.message)\n",
        "\n",
        "def user_age():\n",
        "    try:\n",
        "        age = int(input(\"Enter your age: \"))\n",
        "        if age < 18:\n",
        "            raise ValueTooSmallError()\n",
        "        else:\n",
        "            print(\"You are eligible.\")\n",
        "    except ValueError:\n",
        "        print(\"Invalid input. Please enter a valid integer for age.\")\n",
        "    except ValueTooSmallError as e:\n",
        "        print(f\"Error: {e}\")\n",
        "user_age()\n"
      ]
    },
    {
      "cell_type": "markdown",
      "metadata": {
        "id": "Q9ecagcaVazW"
      },
      "source": [
        "(19) Develop a script that reverses a given string without using built-in reverse functions."
      ]
    },
    {
      "cell_type": "code",
      "execution_count": null,
      "metadata": {
        "id": "gycgckoAVZjR",
        "colab": {
          "base_uri": "https://localhost:8080/"
        },
        "outputId": "9d848cc6-cc7c-483a-ec21-a2776e9f5112"
      },
      "outputs": [
        {
          "output_type": "stream",
          "name": "stdout",
          "text": [
            "The original string is : InClassAssignment\n",
            "The reversed string(using loops) is : tnemngissAssalCnI\n"
          ]
        }
      ],
      "source": [
        "\n",
        "def reverse(s):\n",
        "\tstr = \"\"\n",
        "\tfor i in s:\n",
        "\t\tstr = i + str\n",
        "\treturn str\n",
        "\n",
        "s = \"InClassAssignment\"\n",
        "\n",
        "print(\"The original string is : \", end=\"\")\n",
        "print(s)\n",
        "\n",
        "print(\"The reversed string(using loops) is : \", end=\"\")\n",
        "print(reverse(s))\n"
      ]
    },
    {
      "cell_type": "markdown",
      "metadata": {
        "id": "ZFG6RibifMLu"
      },
      "source": [
        "(20) Implement a Python script to generate a random password of a specified length."
      ]
    },
    {
      "cell_type": "code",
      "execution_count": null,
      "metadata": {
        "id": "BFVrkEi9fNiD"
      },
      "outputs": [],
      "source": [
        "\n",
        "import random\n",
        "import string\n",
        "def generate_password(length=8):\n",
        "    all_characters = string.ascii_letters + string.digits + string.punctuation\n",
        "\n",
        "\n",
        "    password = ''.join(random.choice(all_characters) for i in range(length))\n",
        "\n",
        "    return password\n",
        "\n",
        "password_length_str = input(\"Input the desired length of your password:\")\n",
        "if password_length_str:\n",
        "    password_length = int(password_length_str)\n",
        "else:\n",
        "    password_length = 8\n",
        "\n",
        "password = generate_password(password_length)\n",
        "print(f\"Generated password is: {password}\")\n"
      ]
    },
    {
      "cell_type": "markdown",
      "metadata": {
        "id": "6SmvS7nSfbj8"
      },
      "source": [
        "# Try these questions:"
      ]
    },
    {
      "cell_type": "markdown",
      "metadata": {
        "id": "cboAr5pEWUf5"
      },
      "source": [
        "(21) Define a base class called 'Vehicle' with attributes make and model. Create a derived class Car that inherits from Vehicle and has an additional attribute 'num_doors'. Demonstrate an example of creating an instance of the 'Car' class and accessing its attributes."
      ]
    },
    {
      "cell_type": "markdown",
      "source": [
        "\n",
        "class Vehicle:\n",
        "    def init(self, make, model):\n",
        "        self.make = make\n",
        "        self.model = model\n",
        "class Car(Vehicle):\n",
        "    def init(self, make, model, num_doors):\n",
        "        super().init(make, model)\n",
        "        self.num_doors = num_doors\n",
        "my_car = Car(make=\"Suzuki\", model=\"Swift\", num_doors=5)\n",
        "print(\"Make:\", my_car.make)\n",
        "print(\"Model:\", my_car.model)\n",
        "print(\"Number of Doors:\", my_car.num_doors)\n"
      ],
      "metadata": {
        "id": "phs9gciMWWAW"
      }
    },
    {
      "cell_type": "markdown",
      "metadata": {
        "id": "J8HHefNtePwd"
      },
      "source": [
        "(22) Create a class called 'Shape' with a method calculate_area(). Implement two derived classes 'Circle' and 'Rectangle' that inherit from Shape and override the calculate_area() method. Demonstrate polymorphism by creating instances of both derived classes and calling the calculate_area() method."
      ]
    },
    {
      "cell_type": "code",
      "execution_count": null,
      "metadata": {
        "id": "btnMmUZDeRhS",
        "colab": {
          "base_uri": "https://localhost:8080/"
        },
        "outputId": "72a9397d-86cb-4ec5-cc21-8bdca416954b"
      },
      "outputs": [
        {
          "output_type": "stream",
          "name": "stdout",
          "text": [
            "Calculating area of a Circle:\n",
            "Area: 78.53981633974483\n",
            "\n",
            "Calculating area of a Rectangle:\n",
            "Area: 24\n"
          ]
        }
      ],
      "source": [
        "\n",
        "import math\n",
        "\n",
        "class Shape:\n",
        "    def calculate_area(self):\n",
        "        pass\n",
        "\n",
        "class Circle(Shape):\n",
        "    def __init__(self, radius):\n",
        "        self.radius = radius\n",
        "\n",
        "    def calculate_area(self):\n",
        "        return math.pi * self.radius ** 2\n",
        "\n",
        "class Rectangle(Shape):\n",
        "    def __init__(self, length, width):\n",
        "        self.length = length\n",
        "        self.width = width\n",
        "\n",
        "    def calculate_area(self):\n",
        "        return self.length * self.width\n",
        "def print_area(shape_instance):\n",
        "    print(f\"Area: {shape_instance.calculate_area()}\")\n",
        "\n",
        "circle_instance = Circle(radius=5)\n",
        "rectangle_instance = Rectangle(length=4, width=6)\n",
        "\n",
        "print(\"Calculating area of a Circle:\")\n",
        "print_area(circle_instance)\n",
        "\n",
        "print(\"\\nCalculating area of a Rectangle:\")\n",
        "print_area(rectangle_instance)\n"
      ]
    },
    {
      "cell_type": "markdown",
      "metadata": {
        "id": "z0oqEAlTeMUS"
      },
      "source": [
        "(23) Write a Python program that prompts the user to enter two numbers and perform a division operation. Handle exceptions for both zero division and invalid input (non-numeric input). Display appropriate error messages for each type of exception and ensure the program does not crash due to these errors."
      ]
    },
    {
      "cell_type": "code",
      "execution_count": null,
      "metadata": {
        "id": "yjdc1zM1eMAs",
        "colab": {
          "base_uri": "https://localhost:8080/"
        },
        "outputId": "3d63b8c5-7392-4310-f354-387bcb4028d8"
      },
      "outputs": [
        {
          "output_type": "stream",
          "name": "stdout",
          "text": [
            "Enter the first number: 7\n",
            "Enter the second number: 9\n",
            "Result of 7.0 / 9.0 = 0.7777777777777778\n"
          ]
        }
      ],
      "source": [
        "\n",
        "def division():\n",
        "    try:\n",
        "        num1 = float(input(\"Enter the first number: \"))\n",
        "        num2 = float(input(\"Enter the second number: \"))\n",
        "        result = num1 / num2\n",
        "\n",
        "        print(f\"Result of {num1} / {num2} = {result}\")\n",
        "\n",
        "    except ValueError:\n",
        "        print(\"Error: Please enter valid numeric values.\")\n",
        "    except ZeroDivisionError:\n",
        "        print(\"Error: Division by zero is not allowed.\")\n",
        "    except Exception as e:\n",
        "        print(f\"An unexpected error occurred: {e}\")\n",
        "\n",
        "division()\n"
      ]
    },
    {
      "cell_type": "markdown",
      "metadata": {
        "id": "sZOhks1dXWEe"
      },
      "source": [
        "# Mandatory Question"
      ]
    },
    {
      "cell_type": "markdown",
      "metadata": {
        "id": "eqmHVEwaWhbV"
      },
      "source": [
        "**Important:**\n",
        "Reflecting on the first three lectures and the exercises you've completed, please provide feedback on your learning experience. Share your thoughts on whether the material covered was clear, the exercises were helpful, and if you feel more confident in applying Python programming concepts. Additionally, mention any specific areas where you would like more clarification or topics you would like to explore further in future lectures. Your feedback is valuable in shaping the course for an effective learning journey."
      ]
    },
    {
      "cell_type": "markdown",
      "metadata": {
        "id": "HlpXOT9wXQAd"
      },
      "source": [
        "I attended 2 lectures and i feel that they are actually very good to learn python programming.Also in Middle of the class there is a demo of people which is motivating.In people you included in depth knowledge of python programming which is actually good.I think we need more knowledge of python programming to be cover in the coming lectures."
      ]
    },
    {
      "cell_type": "code",
      "execution_count": null,
      "metadata": {
        "id": "Dq2aOZU7XIke"
      },
      "outputs": [],
      "source": []
    }
  ],
  "metadata": {
    "colab": {
      "provenance": [],
      "include_colab_link": true
    },
    "kernelspec": {
      "display_name": "Python 3 (ipykernel)",
      "language": "python",
      "name": "python3"
    },
    "language_info": {
      "codemirror_mode": {
        "name": "ipython",
        "version": 3
      },
      "file_extension": ".py",
      "mimetype": "text/x-python",
      "name": "python",
      "nbconvert_exporter": "python",
      "pygments_lexer": "ipython3",
      "version": "3.9.12"
    }
  },
  "nbformat": 4,
  "nbformat_minor": 0
}