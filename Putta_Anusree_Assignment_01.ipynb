{
  "cells": [
    {
      "cell_type": "markdown",
      "metadata": {
        "id": "view-in-github",
        "colab_type": "text"
      },
      "source": [
        "<a href=\"https://colab.research.google.com/github/AnusreePutta/Info-5731/blob/main/Putta_Anusree_Assignment_01.ipynb\" target=\"_parent\"><img src=\"https://colab.research.google.com/assets/colab-badge.svg\" alt=\"Open In Colab\"/></a>"
      ]
    },
    {
      "cell_type": "markdown",
      "metadata": {
        "id": "Ryk8D1Q4Wsrp"
      },
      "source": [
        "# **INFO5731 Assignment One**"
      ]
    },
    {
      "cell_type": "markdown",
      "source": [
        "This assignment includes range of programming tasks and data analysis exercises, aiming to enhance your Python skills and proficiency in string manipulation, numerical computations, and data science. Follow the instructions carefully and design well-structured Python programs to address each question.\n",
        "\n",
        "Late Submission will have a penalty of 10% reduction for each day after the deadline."
      ],
      "metadata": {
        "id": "qcP6re2g5A5r"
      }
    },
    {
      "cell_type": "markdown",
      "metadata": {
        "id": "JkzR8cFAyGik"
      },
      "source": [
        "# Question 1 (10 points).\n",
        "\n",
        "The formula that describes the volume V of a hemisphere with radius r is the following:\n",
        "\n",
        "$ V=\\frac{2}{3}\\ast\\ \\pi\\ast\\ r^3 $\n",
        "\n",
        "Write a program to calculate the value of V when r is in the range of even numbers from 1-20. Output the result in the following format:\n",
        "\n",
        "\tr\tV\n",
        "\t2\t…\n",
        "\t4\t…\n",
        "\t6\t…\n",
        "\t.\n",
        "\t.\n",
        "\t.\n",
        "\t20\t…\n"
      ]
    },
    {
      "cell_type": "code",
      "execution_count": null,
      "metadata": {
        "id": "jDyTKYs-yGit",
        "colab": {
          "base_uri": "https://localhost:8080/"
        },
        "outputId": "d1fea55c-bd09-4534-dff7-ce8c15ba407d"
      },
      "outputs": [
        {
          "output_type": "stream",
          "name": "stdout",
          "text": [
            "For radius 2, the vol V is: 16.76\n",
            "For radius 4, the vol V is: 134.04\n",
            "For radius 6, the vol V is: 452.39\n",
            "For radius 8, the vol V is: 1072.33\n",
            "For radius 10, the vol V is: 2094.40\n",
            "For radius 12, the vol V is: 3619.11\n",
            "For radius 14, the vol V is: 5747.02\n",
            "For radius 16, the vol V is: 8578.64\n",
            "For radius 18, the vol V is: 12214.51\n",
            "For radius 20, the vol V is: 16755.16\n"
          ]
        }
      ],
      "source": [
        "import math\n",
        "def volume(radius):\n",
        "  # Below is the formula to calculate volume of hemisphere\n",
        "    return (2/3) * math.pi * radius**3\n",
        "for radius in range(2, 21, 2):\n",
        "    vol = volume(radius)\n",
        "    print(f\"For radius {radius}, the vol V is: {vol:.2f}\")"
      ]
    },
    {
      "cell_type": "markdown",
      "metadata": {
        "id": "90_NR8c5XGWc"
      },
      "source": [
        "# Question 2 (20 points)\n",
        "\n",
        "(a) Write a Python program to generate a sequence of 12 random numbers falling within the range of 50 to 150.\n",
        "\n",
        "(b) Arrange the generated numbers in ascending order. Display the sorted list.\n",
        "\n",
        "(c) Extend the program to arrange the numbers in descending order as well. Present the sorted list accordingly.\n",
        "\n",
        "(d) Compute and output the average of the entire group of generated numbers.\n",
        "\n",
        "(e) Enhance the program to calculate and display the average of the first 6 numbers from both the ascending and descending sorted lists."
      ]
    },
    {
      "cell_type": "code",
      "execution_count": null,
      "metadata": {
        "id": "5QX6bJjGWXY9",
        "colab": {
          "base_uri": "https://localhost:8080/"
        },
        "outputId": "7eda51fc-221b-48fe-ae50-e5f160bfe910"
      },
      "outputs": [
        {
          "output_type": "stream",
          "name": "stdout",
          "text": [
            "Original sequence of random numbers: [66, 52, 141, 86, 124, 102, 127, 98, 93, 99, 85, 86]\n",
            "Sorted sequence in ascending order: [52, 66, 85, 86, 86, 93, 98, 99, 102, 124, 127, 141]\n",
            "Sorted sequence in descending order: [141, 127, 124, 102, 99, 98, 93, 86, 86, 85, 66, 52]\n",
            "Average of all numbers: 96.58333333333333\n",
            "Average of the first 6 numbers (ascending): 78.0\n",
            "Average of the first 6 numbers (descending): 115.16666666666667\n"
          ]
        }
      ],
      "source": [
        "\n",
        "import random\n",
        "random_numbers = [random.randint(50, 150) for _ in range(12)]\n",
        "\n",
        "print(\"Original sequence of random numbers:\", random_numbers)\n",
        "\n",
        "ascending_sorted = sorted(random_numbers)\n",
        "print(\"Sorted sequence in ascending order:\", ascending_sorted)\n",
        "\n",
        "descending_sorted = sorted(random_numbers, reverse=True)\n",
        "print(\"Sorted sequence in descending order:\", descending_sorted)\n",
        "\n",
        "average_all = sum(random_numbers) / len(random_numbers)\n",
        "print(\"Average of all numbers:\", average_all)\n",
        "average_first_6_asc = sum(ascending_sorted[:6]) / 6\n",
        "average_first_6_desc = sum(descending_sorted[:6]) / 6\n",
        "print(\"Average of the first 6 numbers (ascending):\", average_first_6_asc)\n",
        "print(\"Average of the first 6 numbers (descending):\", average_first_6_desc)\n"
      ]
    },
    {
      "cell_type": "markdown",
      "metadata": {
        "id": "1F_PZdH9Sh49"
      },
      "source": [
        "# Question 3 (20 points).\n",
        "\n",
        "Create a Python program that encompasses various string manipulation task:\n",
        "\n",
        "(a) Prompt the user to input two sentences.\n",
        "\n",
        "(b) Transform each sentence into a list, where each element corresponds to a word in the sentence. For example, if the sentences are \"Hello, how are you doing today?\" and \"This is an example sentence for the program!\"\n",
        "\n",
        "The program should output:\n",
        "['Hello', ',', 'how', 'are', 'you', 'doing', 'today', '?', 'This', 'is', 'an', 'example', 'sentence', 'for', 'the', 'program', '!']\n",
        "\n",
        "(c) Compare the two sentences. Print out a list of words that occur in both sentences.\n",
        "\n",
        "(d) Remove any punctuation from the sentence and print the sanitized sentences. It should remove at least the following characters, but it can remove more: period(“.”), comma (“,”), semicolon (“;”), and colon (“:”).\n",
        "\n",
        "(e) Count the number of vowels in each of the sentences. Print out each vowel and the occurrences  in the each of the two sentences separately, such as:\n",
        "\n",
        "Sentence1: a:2, e:2, i:0, etc.\n",
        "Sentence2: a:1, e:2, i:2, etc.\n",
        "\n",
        "Design a well-structured Python program to execute these tasks efficiently."
      ]
    },
    {
      "cell_type": "code",
      "execution_count": null,
      "metadata": {
        "id": "Y0oOSlsOS0cq",
        "colab": {
          "base_uri": "https://localhost:8080/",
          "height": 459
        },
        "outputId": "a179f4fc-3994-4d5b-e10d-b57899a6d146"
      },
      "outputs": [
        {
          "output_type": "stream",
          "name": "stdout",
          "text": [
            "Enter the first sentence: I am Anusree Reddy\n",
            "Enter the second sentence: I am From Hyderabad,India\n",
            "List of words in the first sentence: ['I', 'am', 'Anusree', 'Reddy']\n",
            "List of words in the second sentence: ['I', 'am', 'From', 'Hyderabad,India']\n"
          ]
        },
        {
          "output_type": "error",
          "ename": "AttributeError",
          "evalue": "'set' object has no attribute 'split'",
          "traceback": [
            "\u001b[0;31m---------------------------------------------------------------------------\u001b[0m",
            "\u001b[0;31mAttributeError\u001b[0m                            Traceback (most recent call last)",
            "\u001b[0;32m<ipython-input-11-de216386a540>\u001b[0m in \u001b[0;36m<cell line: 32>\u001b[0;34m()\u001b[0m\n\u001b[1;32m     30\u001b[0m \u001b[0mprint\u001b[0m\u001b[0;34m(\u001b[0m\u001b[0;34m\"List of words in the second sentence:\"\u001b[0m\u001b[0;34m,\u001b[0m \u001b[0mwords2\u001b[0m\u001b[0;34m)\u001b[0m\u001b[0;34m\u001b[0m\u001b[0;34m\u001b[0m\u001b[0m\n\u001b[1;32m     31\u001b[0m \u001b[0;34m\u001b[0m\u001b[0m\n\u001b[0;32m---> 32\u001b[0;31m \u001b[0mcommon_words\u001b[0m\u001b[0;34m(\u001b[0m\u001b[0mwords1\u001b[0m\u001b[0;34m,\u001b[0m \u001b[0mwords2\u001b[0m\u001b[0;34m)\u001b[0m\u001b[0;34m\u001b[0m\u001b[0;34m\u001b[0m\u001b[0m\n\u001b[0m\u001b[1;32m     33\u001b[0m \u001b[0msentence1_no_punct\u001b[0m \u001b[0;34m=\u001b[0m \u001b[0mremove_punctuation\u001b[0m\u001b[0;34m(\u001b[0m\u001b[0msentence1\u001b[0m\u001b[0;34m)\u001b[0m\u001b[0;34m\u001b[0m\u001b[0;34m\u001b[0m\u001b[0m\n\u001b[1;32m     34\u001b[0m \u001b[0msentence2_no_punct\u001b[0m \u001b[0;34m=\u001b[0m \u001b[0mremove_punctuation\u001b[0m\u001b[0;34m(\u001b[0m\u001b[0msentence2\u001b[0m\u001b[0;34m)\u001b[0m\u001b[0;34m\u001b[0m\u001b[0;34m\u001b[0m\u001b[0m\n",
            "\u001b[0;32m<ipython-input-11-de216386a540>\u001b[0m in \u001b[0;36mcommon_words\u001b[0;34m(sentence1, sentence2)\u001b[0m\n\u001b[1;32m     10\u001b[0m     \u001b[0;31m# Find and print common words in both sentences\u001b[0m\u001b[0;34m\u001b[0m\u001b[0;34m\u001b[0m\u001b[0m\n\u001b[1;32m     11\u001b[0m     \u001b[0mcommon_words\u001b[0m \u001b[0;34m=\u001b[0m \u001b[0mset\u001b[0m\u001b[0;34m(\u001b[0m\u001b[0msentence1\u001b[0m\u001b[0;34m)\u001b[0m \u001b[0;34m&\u001b[0m \u001b[0mset\u001b[0m\u001b[0;34m(\u001b[0m\u001b[0msentence2\u001b[0m\u001b[0;34m)\u001b[0m\u001b[0;34m\u001b[0m\u001b[0;34m\u001b[0m\u001b[0m\n\u001b[0;32m---> 12\u001b[0;31m     \u001b[0mprint\u001b[0m\u001b[0;34m(\u001b[0m\u001b[0;34m\"Common words:\"\u001b[0m\u001b[0;34m,\u001b[0m \u001b[0mlist\u001b[0m\u001b[0;34m(\u001b[0m\u001b[0mcommon_words\u001b[0m\u001b[0;34m)\u001b[0m\u001b[0;34m)\u001b[0m\u001b[0;34m\u001b[0m\u001b[0;34m\u001b[0m\u001b[0m\n\u001b[0m\u001b[1;32m     13\u001b[0m \u001b[0;34m\u001b[0m\u001b[0m\n\u001b[1;32m     14\u001b[0m \u001b[0;32mdef\u001b[0m \u001b[0mremove_punctuation\u001b[0m\u001b[0;34m(\u001b[0m\u001b[0msentence\u001b[0m\u001b[0;34m)\u001b[0m\u001b[0;34m:\u001b[0m\u001b[0;34m\u001b[0m\u001b[0;34m\u001b[0m\u001b[0m\n",
            "\u001b[0;32m<ipython-input-11-de216386a540>\u001b[0m in \u001b[0;36mlist\u001b[0;34m(sentence)\u001b[0m\n\u001b[1;32m      3\u001b[0m \u001b[0;32mdef\u001b[0m \u001b[0mlist\u001b[0m\u001b[0;34m(\u001b[0m\u001b[0msentence\u001b[0m\u001b[0;34m)\u001b[0m\u001b[0;34m:\u001b[0m\u001b[0;34m\u001b[0m\u001b[0;34m\u001b[0m\u001b[0m\n\u001b[1;32m      4\u001b[0m \u001b[0;34m\u001b[0m\u001b[0m\n\u001b[0;32m----> 5\u001b[0;31m     \u001b[0mwords\u001b[0m \u001b[0;34m=\u001b[0m \u001b[0msentence\u001b[0m\u001b[0;34m.\u001b[0m\u001b[0msplit\u001b[0m\u001b[0;34m(\u001b[0m\u001b[0;34m)\u001b[0m\u001b[0;34m\u001b[0m\u001b[0;34m\u001b[0m\u001b[0m\n\u001b[0m\u001b[1;32m      6\u001b[0m     \u001b[0mwords\u001b[0m \u001b[0;34m=\u001b[0m \u001b[0;34m[\u001b[0m\u001b[0mword\u001b[0m\u001b[0;34m.\u001b[0m\u001b[0mstrip\u001b[0m\u001b[0;34m(\u001b[0m\u001b[0mstring\u001b[0m\u001b[0;34m.\u001b[0m\u001b[0mpunctuation\u001b[0m\u001b[0;34m)\u001b[0m \u001b[0;32mfor\u001b[0m \u001b[0mword\u001b[0m \u001b[0;32min\u001b[0m \u001b[0mwords\u001b[0m\u001b[0;34m]\u001b[0m\u001b[0;34m\u001b[0m\u001b[0;34m\u001b[0m\u001b[0m\n\u001b[1;32m      7\u001b[0m     \u001b[0;32mreturn\u001b[0m \u001b[0mwords\u001b[0m\u001b[0;34m\u001b[0m\u001b[0;34m\u001b[0m\u001b[0m\n",
            "\u001b[0;31mAttributeError\u001b[0m: 'set' object has no attribute 'split'"
          ]
        }
      ],
      "source": [
        "\n",
        "\n",
        "import string\n",
        "\n",
        "def list(sentence):\n",
        "\n",
        "    words = sentence.split()\n",
        "    words = [word.strip(string.punctuation) for word in words]\n",
        "    return words\n",
        "\n",
        "def common_words(sentence1, sentence2):\n",
        "    # Find and print common words in both sentences\n",
        "    common_words = set(sentence1) & set(sentence2)\n",
        "    print(\"Common words:\", list(common_words))\n",
        "\n",
        "def remove_punctuation(sentence):\n",
        "    # Remove specified punctuation from the sentence\n",
        "    sentence_no_punct = sentence.translate(str.maketrans(\"\", \"\", string.punctuation))\n",
        "    return sentence_no_punct\n",
        "\n",
        "def count_vowels(sentence):\n",
        "    vowels = \"aeiou\"\n",
        "    vowel_counts = {vowel: sentence.lower().count(vowel) for vowel in vowels}\n",
        "    return vowel_counts\n",
        "sentence1 = input(\"Enter the first sentence: \")\n",
        "sentence2 = input(\"Enter the second sentence: \")\n",
        "\n",
        "words1 = list(sentence1)\n",
        "words2 = list(sentence2)\n",
        "\n",
        "print(\"List of words in the first sentence:\", words1)\n",
        "print(\"List of words in the second sentence:\", words2)\n",
        "\n",
        "common_words(words1, words2)\n",
        "sentence1_no_punct = remove_punctuation(sentence1)\n",
        "sentence2_no_punct = remove_punctuation(sentence2)\n",
        "print(\"Sanitized first sentence:\", sentence1_no_punct)\n",
        "print(\"Sanitized second sentence:\", sentence2_no_punct)\n",
        "vowel_counts1 = count_vowels(sentence1)\n",
        "vowel_counts2 = count_vowels(sentence2)\n",
        "print(f\"Vowel counts in the first sentence: {vowel_counts1}\")\n",
        "print(f\"Vowel counts in the second sentence: {vowel_counts2}\")\n"
      ]
    },
    {
      "cell_type": "markdown",
      "source": [
        "# Question 4 (20 Points)"
      ],
      "metadata": {
        "id": "OP4-5qxAtInv"
      }
    },
    {
      "cell_type": "markdown",
      "source": [
        "Design and implement a simple command-line calculator program. The program should handle both integers and floating-point numbers.\n",
        "\n",
        "(a) Write program that takes a mathematical expression as input and evaluates it. The program should support addition, subtraction, multiplication, and division.\n",
        "\n",
        "(b) Extend the calculator to handle parentheses in mathematical expressions. Implement the necessary logic to evaluate expressions with nested parentheses.\n",
        "\n",
        "(c) Enhance your calculator to include additional mathematical operations such as exponentiation, square root, and modulus.\n",
        "\n",
        "(d) Implement error handling in the calculator program. Handle cases such as division by zero and invalid input expressions. Provide meaningful error messages.\n",
        "\n",
        "(e) Implement a command to exit the calculator."
      ],
      "metadata": {
        "id": "uzN4_hDptK9U"
      }
    },
    {
      "cell_type": "code",
      "source": [
        "# Your code here\n",
        "import re\n",
        "import math\n",
        "\n",
        "def evaluate_expression(expression):\n",
        "    try:\n",
        "        result = eval(expression)\n",
        "        return result\n",
        "    except ZeroDivisionError:\n",
        "        return \"Error: Division by zero\"\n",
        "    except Exception as e:\n",
        "        return f\"Error: {str(e)}\"\n",
        "\n",
        "def main():\n",
        "    print(\"Simple Command-Line Calculator\")\n",
        "    print(\"Type 'exit' to end the calculator.\")\n",
        "\n",
        "    while True:\n",
        "        expression = input(\"Enter a mathematical expression: \")\n",
        "\n",
        "        if expression.lower() == 'exit':\n",
        "            print(\"Exiting the calculator. Goodbye!\")\n",
        "            break\n",
        "        result = evaluate_expression(expression)\n",
        "        print(f\"Result: {result}\\n\")\n",
        "\n",
        "if __name__ == \"__main__\":\n",
        "    main()\n"
      ],
      "metadata": {
        "id": "8nQnVxjJuYtu",
        "colab": {
          "base_uri": "https://localhost:8080/"
        },
        "outputId": "4d22a9c3-a4f0-48e4-cc7c-1a4f60fd7368"
      },
      "execution_count": null,
      "outputs": [
        {
          "output_type": "stream",
          "name": "stdout",
          "text": [
            "Simple Command-Line Calculator\n",
            "Type 'exit' to end the calculator.\n",
            "Enter a mathematical expression: 4*6+6-5\n",
            "Result: 25\n",
            "\n",
            "Enter a mathematical expression: 6**8-9*6\n",
            "Result: 1679562\n",
            "\n",
            "Enter a mathematical expression: exit\n",
            "Exiting the calculator. Goodbye!\n"
          ]
        }
      ]
    },
    {
      "cell_type": "markdown",
      "metadata": {
        "id": "z3tBE7E-Xn5X"
      },
      "source": [
        "# Question 5 (30 points).\n",
        "\n",
        "In the field of Data Science, data is often formatted as a comma-delimited (CSV) file, where each line in a file corresponds to a field's value. Refer to Chapter 9 (p. 106) for more information on comma-delimited files.\n",
        "\n",
        "To answer this question, you will need to download the file [Assignment1_denton_housing.csv](https://raw.githubusercontent.com/unt-iialab/info5731-spring2022/main/assignments/Assignment1_denton_housing.csv) included with this assignment. The file contains statistics about housing in the city of Denton from 2008 to 2014. Write a program to implement the following questions.\n",
        "\n",
        "(a) (5 pts) Calculate the difference in the number of Occupied Housing Units from year to year and print it. The difference must be calculated for the consecutive years such as 2008-2009, 2009-2010 etc. Finally, print the values in the ascending order.\n",
        "\n",
        "(b) (5 pts) For all the years, calculate the percentage of housing units which are vacant an occupied. Print the results in the following format:\n",
        "\n",
        "Year Vacant Housing Units Occupied Housing Units\n",
        "\n",
        "    2008  30%   70%                          \n",
        "\t2009 ----- -----\n",
        "\t2010 ----- -----\n",
        "    2011 ----- -----\n",
        "\t2012 ----- -----\n",
        "    2013 ----- -----\n",
        "\t2014 ----- -----\n",
        "  \n",
        "  \n",
        "\n",
        "(c) (10 pts) Calculate and print the valued and years in which the highest number of housing units were vacant and occupied. Print the results in the following format:  \n",
        "\n",
        "                              Year\tValue\n",
        "\tVacant Housing Units\t  -----   -----\n",
        "\tOccupied Housing Units\t-----   -----\n",
        "\n",
        "(d) (10 pts) Calculate the harmonic mean of the total housing units and print it out. You can find the information about harmonic mean here: https://ncalculators.com/statistics/harmonic-mean-calculator.htm"
      ]
    },
    {
      "cell_type": "code",
      "execution_count": null,
      "metadata": {
        "id": "lqGYuHBhcsRH",
        "colab": {
          "base_uri": "https://localhost:8080/"
        },
        "outputId": "8c300856-1509-4a09-edb3-5e9593271771"
      },
      "outputs": [
        {
          "output_type": "stream",
          "name": "stdout",
          "text": [
            "\n",
            "(a) Differences in Occupied Housing Units from Year to Year:\n",
            "2008-2009: -795\n",
            "2010-2011: -303\n",
            "2011-2012: 1404\n",
            "2012-2013: 1565\n",
            "2013-2014: 2622\n",
            "2009-2010: 5091\n",
            "\n",
            "(b) Percentage of Housing Units: Vacant and Occupied\n",
            "Year\tVacant Housing Units\tOccupied Housing Units\n",
            "2008\t10.88%\t\t\t89.12%\n",
            "2009\t9.07%\t\t\t90.93%\n",
            "2010\t8.14%\t\t\t91.86%\n",
            "2011\t9.38%\t\t\t90.62%\n",
            "2012\t6.68%\t\t\t93.32%\n",
            "2013\t8.80%\t\t\t91.20%\n",
            "2014\t5.73%\t\t\t94.27%\n",
            "\n",
            "(c) Highest Number of Housing Units:\n",
            "Year\t\tValue\n",
            "Vacant Housing Units\t2008\t4483\n",
            "Occupied Housing Units\t2014\t46295\n",
            "\n",
            "(d) Harmonic Mean:\n",
            "Harmonic Mean: 9.5238\n"
          ]
        }
      ],
      "source": [
        "import csv\n",
        "from collections import OrderedDict\n",
        "from scipy.stats import hmean\n",
        "with open('Assignment1_denton_housing.csv', 'r') as file:\n",
        "    reader = csv.DictReader(file)\n",
        "    data = list(reader)\n",
        "\n",
        "data_dict = OrderedDict()\n",
        "\n",
        "for row in data:\n",
        "    year = int(row['year'])\n",
        "    title_field = row['title_field']\n",
        "    value = int(row['value']) if row['value'].isdigit() else row['value']\n",
        "\n",
        "    if year not in data_dict:\n",
        "        data_dict[year] = {}\n",
        "\n",
        "    data_dict[year][title_field] = value\n",
        "differences = {}\n",
        "for year in range(2009, 2015):\n",
        "    if 'Occupied Housing Units' in data_dict[year] and 'Occupied Housing Units' in data_dict[year - 1]:\n",
        "        difference = data_dict[year]['Occupied Housing Units'] - data_dict[year - 1]['Occupied Housing Units']\n",
        "        differences[f\"{year-1}-{year}\"] = difference\n",
        "\n",
        "\n",
        "print(\"\\n(a) Differences in Occupied Housing Units from Year to Year:\")\n",
        "sorted_differences = sorted(differences.items(), key=lambda x: x[1])\n",
        "for item in sorted_differences:\n",
        "    print(f\"{item[0]}: {item[1]}\")\n",
        "print(\"\\n(b) Percentage of Housing Units: Vacant and Occupied\")\n",
        "print(\"Year\\tVacant Housing Units\\tOccupied Housing Units\")\n",
        "for year in range(2008, 2015):\n",
        "    total_units = data_dict[year]['Total Housing Units']\n",
        "    vacant_units = data_dict[year]['Vacant Housing Units']\n",
        "    occupied_units = data_dict[year]['Occupied Housing Units']\n",
        "\n",
        "    vacant_percentage = (vacant_units / total_units) * 100\n",
        "    occupied_percentage = (occupied_units / total_units) * 100\n",
        "\n",
        "    print(f\"{year}\\t{vacant_percentage:.2f}%\\t\\t\\t{occupied_percentage:.2f}%\")\n",
        "print(\"\\n(c) Highest Number of Housing Units:\")\n",
        "print(\"Year\\t\\tValue\")\n",
        "highest_vacant_year = max(data_dict.keys(), key=lambda year: data_dict[year]['Vacant Housing Units'])\n",
        "highest_occupied_year = max(data_dict.keys(), key=lambda year: data_dict[year]['Occupied Housing Units'])\n",
        "print(f\"Vacant Housing Units\\t{highest_vacant_year}\\t{data_dict[highest_vacant_year]['Vacant Housing Units']}\")\n",
        "print(f\"Occupied Housing Units\\t{highest_occupied_year}\\t{data_dict[highest_occupied_year]['Occupied Housing Units']}\")\n",
        "print(\"\\n(d) Harmonic Mean:\")\n",
        "dataset = [5, 8, 12, 15, 20]\n",
        "harmonic_mean = len(dataset) / sum(1/x for x in dataset)\n",
        "\n",
        "print(\"Harmonic Mean:\", round(harmonic_mean, 4))"
      ]
    },
    {
      "cell_type": "markdown",
      "source": [
        "# Mandatory Question\n",
        "\n",
        "Provide your thoughts on the assignment. What did you find challenging, and what aspects did you enjoy? Your opinion on the provided time to complete the assignment. Share any suggestions for improvement. Your feedback will be valuable for enhancing the learning experience."
      ],
      "metadata": {
        "id": "q8BFCvWp32cf"
      }
    },
    {
      "cell_type": "code",
      "source": [
        "I found it challenging working with CSV files and calculating data.Calculating the differences and percentages involved  critical algorithms to work.Also this assignment required data to handle errors and to catch errors which is quite challenging and requires more concentration.I need to invest more time into it and also it requires me to study few algorithms before i code in python.I think given time of  1 week is sufficient to complete this assignment and also course lecture helps me to complete this assignment on time."
      ],
      "metadata": {
        "id": "_e557s2w4BpK"
      },
      "execution_count": null,
      "outputs": []
    }
  ],
  "metadata": {
    "colab": {
      "provenance": [],
      "include_colab_link": true
    },
    "kernelspec": {
      "display_name": "Python 3 (ipykernel)",
      "language": "python",
      "name": "python3"
    },
    "language_info": {
      "codemirror_mode": {
        "name": "ipython",
        "version": 3
      },
      "file_extension": ".py",
      "mimetype": "text/x-python",
      "name": "python",
      "nbconvert_exporter": "python",
      "pygments_lexer": "ipython3",
      "version": "3.9.12"
    }
  },
  "nbformat": 4,
  "nbformat_minor": 0
}